{
 "cells": [
  {
   "cell_type": "code",
   "execution_count": 35,
   "metadata": {},
   "outputs": [],
   "source": [
    "import pandas as pd\n",
    "import numpy as np\n",
    "import matplotlib.pyplot as plt\n",
    "\n",
    "from sklearn.neural_network import MLPRegressor\n",
    "from sklearn.ensemble import RandomForestRegressor\n",
    "from sklearn.neighbors import KNeighborsRegressor\n",
    "from sklearn.model_selection import train_test_split"
   ]
  },
  {
   "cell_type": "code",
   "execution_count": 36,
   "metadata": {},
   "outputs": [],
   "source": [
    "data_path = './data/sale-estates-data-set.csv'"
   ]
  },
  {
   "cell_type": "code",
   "execution_count": 37,
   "metadata": {},
   "outputs": [],
   "source": [
    "df = pd.read_csv(data_path)"
   ]
  },
  {
   "cell_type": "code",
   "execution_count": 38,
   "metadata": {},
   "outputs": [],
   "source": [
    "prize_mean = df.prize.mean()\n",
    "prize_std = df.prize.std()\n",
    "\n",
    "area_mean = df.Area.mean()\n",
    "area_std = df.Area.std()\n"
   ]
  },
  {
   "cell_type": "code",
   "execution_count": 39,
   "metadata": {},
   "outputs": [],
   "source": [
    "df['prize'] = df['prize'].apply(lambda x : (x - prize_mean) / prize_std)\n",
    "df['Area'] = df['Area'].apply(lambda x : (x - area_mean) / area_std)"
   ]
  },
  {
   "cell_type": "code",
   "execution_count": 40,
   "metadata": {},
   "outputs": [
    {
     "data": {
      "text/html": [
       "<div>\n",
       "<style scoped>\n",
       "    .dataframe tbody tr th:only-of-type {\n",
       "        vertical-align: middle;\n",
       "    }\n",
       "\n",
       "    .dataframe tbody tr th {\n",
       "        vertical-align: top;\n",
       "    }\n",
       "\n",
       "    .dataframe thead th {\n",
       "        text-align: right;\n",
       "    }\n",
       "</style>\n",
       "<table border=\"1\" class=\"dataframe\">\n",
       "  <thead>\n",
       "    <tr style=\"text-align: right;\">\n",
       "      <th></th>\n",
       "      <th>Area</th>\n",
       "      <th>prize</th>\n",
       "      <th>Garage</th>\n",
       "      <th>Environments</th>\n",
       "      <th>Bedrooms</th>\n",
       "      <th>location_Abasto, Capital Federal</th>\n",
       "      <th>location_Agronomía, Capital Federal</th>\n",
       "      <th>location_Almagro, Capital Federal</th>\n",
       "      <th>location_Balvanera, Capital Federal</th>\n",
       "      <th>location_Barracas, Capital Federal</th>\n",
       "      <th>...</th>\n",
       "      <th>location_Villa Lugano, Capital Federal</th>\n",
       "      <th>location_Villa Luro, Capital Federal</th>\n",
       "      <th>location_Villa Ortuzar, Capital Federal</th>\n",
       "      <th>location_Villa Pueyrredón, Capital Federal</th>\n",
       "      <th>location_Villa Real, Capital Federal</th>\n",
       "      <th>location_Villa Riachuelo, Capital Federal</th>\n",
       "      <th>location_Villa Santa Rita, Capital Federal</th>\n",
       "      <th>location_Villa Soldati, Capital Federal</th>\n",
       "      <th>location_Villa Urquiza, Capital Federal</th>\n",
       "      <th>location_Villa del Parque, Capital Federal</th>\n",
       "    </tr>\n",
       "  </thead>\n",
       "  <tbody>\n",
       "    <tr>\n",
       "      <th>0</th>\n",
       "      <td>-0.489299</td>\n",
       "      <td>0.050145</td>\n",
       "      <td>1.0</td>\n",
       "      <td>5.0</td>\n",
       "      <td>3.0</td>\n",
       "      <td>0</td>\n",
       "      <td>0</td>\n",
       "      <td>0</td>\n",
       "      <td>0</td>\n",
       "      <td>0</td>\n",
       "      <td>...</td>\n",
       "      <td>0</td>\n",
       "      <td>0</td>\n",
       "      <td>0</td>\n",
       "      <td>0</td>\n",
       "      <td>0</td>\n",
       "      <td>0</td>\n",
       "      <td>0</td>\n",
       "      <td>0</td>\n",
       "      <td>0</td>\n",
       "      <td>0</td>\n",
       "    </tr>\n",
       "    <tr>\n",
       "      <th>1</th>\n",
       "      <td>-0.375861</td>\n",
       "      <td>-0.140227</td>\n",
       "      <td>3.0</td>\n",
       "      <td>5.0</td>\n",
       "      <td>4.0</td>\n",
       "      <td>0</td>\n",
       "      <td>0</td>\n",
       "      <td>0</td>\n",
       "      <td>0</td>\n",
       "      <td>0</td>\n",
       "      <td>...</td>\n",
       "      <td>0</td>\n",
       "      <td>0</td>\n",
       "      <td>0</td>\n",
       "      <td>1</td>\n",
       "      <td>0</td>\n",
       "      <td>0</td>\n",
       "      <td>0</td>\n",
       "      <td>0</td>\n",
       "      <td>0</td>\n",
       "      <td>0</td>\n",
       "    </tr>\n",
       "    <tr>\n",
       "      <th>2</th>\n",
       "      <td>-0.462290</td>\n",
       "      <td>-0.372904</td>\n",
       "      <td>0.0</td>\n",
       "      <td>4.0</td>\n",
       "      <td>3.0</td>\n",
       "      <td>0</td>\n",
       "      <td>0</td>\n",
       "      <td>0</td>\n",
       "      <td>0</td>\n",
       "      <td>0</td>\n",
       "      <td>...</td>\n",
       "      <td>0</td>\n",
       "      <td>0</td>\n",
       "      <td>0</td>\n",
       "      <td>0</td>\n",
       "      <td>0</td>\n",
       "      <td>0</td>\n",
       "      <td>0</td>\n",
       "      <td>0</td>\n",
       "      <td>0</td>\n",
       "      <td>0</td>\n",
       "    </tr>\n",
       "    <tr>\n",
       "      <th>3</th>\n",
       "      <td>-0.024743</td>\n",
       "      <td>-0.457514</td>\n",
       "      <td>0.0</td>\n",
       "      <td>4.0</td>\n",
       "      <td>3.0</td>\n",
       "      <td>0</td>\n",
       "      <td>0</td>\n",
       "      <td>0</td>\n",
       "      <td>0</td>\n",
       "      <td>0</td>\n",
       "      <td>...</td>\n",
       "      <td>0</td>\n",
       "      <td>0</td>\n",
       "      <td>0</td>\n",
       "      <td>0</td>\n",
       "      <td>0</td>\n",
       "      <td>0</td>\n",
       "      <td>0</td>\n",
       "      <td>0</td>\n",
       "      <td>0</td>\n",
       "      <td>0</td>\n",
       "    </tr>\n",
       "    <tr>\n",
       "      <th>4</th>\n",
       "      <td>2.454692</td>\n",
       "      <td>0.959700</td>\n",
       "      <td>0.0</td>\n",
       "      <td>5.0</td>\n",
       "      <td>7.0</td>\n",
       "      <td>0</td>\n",
       "      <td>0</td>\n",
       "      <td>0</td>\n",
       "      <td>0</td>\n",
       "      <td>0</td>\n",
       "      <td>...</td>\n",
       "      <td>0</td>\n",
       "      <td>0</td>\n",
       "      <td>0</td>\n",
       "      <td>0</td>\n",
       "      <td>0</td>\n",
       "      <td>0</td>\n",
       "      <td>0</td>\n",
       "      <td>0</td>\n",
       "      <td>0</td>\n",
       "      <td>0</td>\n",
       "    </tr>\n",
       "  </tbody>\n",
       "</table>\n",
       "<p>5 rows × 81 columns</p>\n",
       "</div>"
      ],
      "text/plain": [
       "       Area     prize  Garage  Environments  Bedrooms  \\\n",
       "0 -0.489299  0.050145     1.0           5.0       3.0   \n",
       "1 -0.375861 -0.140227     3.0           5.0       4.0   \n",
       "2 -0.462290 -0.372904     0.0           4.0       3.0   \n",
       "3 -0.024743 -0.457514     0.0           4.0       3.0   \n",
       "4  2.454692  0.959700     0.0           5.0       7.0   \n",
       "\n",
       "   location_Abasto, Capital Federal  location_Agronomía, Capital Federal  \\\n",
       "0                                 0                                    0   \n",
       "1                                 0                                    0   \n",
       "2                                 0                                    0   \n",
       "3                                 0                                    0   \n",
       "4                                 0                                    0   \n",
       "\n",
       "   location_Almagro, Capital Federal  location_Balvanera, Capital Federal  \\\n",
       "0                                  0                                    0   \n",
       "1                                  0                                    0   \n",
       "2                                  0                                    0   \n",
       "3                                  0                                    0   \n",
       "4                                  0                                    0   \n",
       "\n",
       "   location_Barracas, Capital Federal  ...  \\\n",
       "0                                   0  ...   \n",
       "1                                   0  ...   \n",
       "2                                   0  ...   \n",
       "3                                   0  ...   \n",
       "4                                   0  ...   \n",
       "\n",
       "   location_Villa Lugano, Capital Federal  \\\n",
       "0                                       0   \n",
       "1                                       0   \n",
       "2                                       0   \n",
       "3                                       0   \n",
       "4                                       0   \n",
       "\n",
       "   location_Villa Luro, Capital Federal  \\\n",
       "0                                     0   \n",
       "1                                     0   \n",
       "2                                     0   \n",
       "3                                     0   \n",
       "4                                     0   \n",
       "\n",
       "   location_Villa Ortuzar, Capital Federal  \\\n",
       "0                                        0   \n",
       "1                                        0   \n",
       "2                                        0   \n",
       "3                                        0   \n",
       "4                                        0   \n",
       "\n",
       "   location_Villa Pueyrredón, Capital Federal  \\\n",
       "0                                           0   \n",
       "1                                           1   \n",
       "2                                           0   \n",
       "3                                           0   \n",
       "4                                           0   \n",
       "\n",
       "   location_Villa Real, Capital Federal  \\\n",
       "0                                     0   \n",
       "1                                     0   \n",
       "2                                     0   \n",
       "3                                     0   \n",
       "4                                     0   \n",
       "\n",
       "   location_Villa Riachuelo, Capital Federal  \\\n",
       "0                                          0   \n",
       "1                                          0   \n",
       "2                                          0   \n",
       "3                                          0   \n",
       "4                                          0   \n",
       "\n",
       "   location_Villa Santa Rita, Capital Federal  \\\n",
       "0                                           0   \n",
       "1                                           0   \n",
       "2                                           0   \n",
       "3                                           0   \n",
       "4                                           0   \n",
       "\n",
       "   location_Villa Soldati, Capital Federal  \\\n",
       "0                                        0   \n",
       "1                                        0   \n",
       "2                                        0   \n",
       "3                                        0   \n",
       "4                                        0   \n",
       "\n",
       "   location_Villa Urquiza, Capital Federal  \\\n",
       "0                                        0   \n",
       "1                                        0   \n",
       "2                                        0   \n",
       "3                                        0   \n",
       "4                                        0   \n",
       "\n",
       "   location_Villa del Parque, Capital Federal  \n",
       "0                                           0  \n",
       "1                                           0  \n",
       "2                                           0  \n",
       "3                                           0  \n",
       "4                                           0  \n",
       "\n",
       "[5 rows x 81 columns]"
      ]
     },
     "execution_count": 40,
     "metadata": {},
     "output_type": "execute_result"
    }
   ],
   "source": [
    "df.head()"
   ]
  },
  {
   "cell_type": "code",
   "execution_count": 41,
   "metadata": {},
   "outputs": [
    {
     "data": {
      "text/plain": [
       "Index(['Area', 'prize', 'Garage', 'Environments', 'Bedrooms',\n",
       "       'location_Abasto, Capital Federal',\n",
       "       'location_Agronomía, Capital Federal',\n",
       "       'location_Almagro, Capital Federal',\n",
       "       'location_Balvanera, Capital Federal',\n",
       "       'location_Barracas, Capital Federal',\n",
       "       'location_Barrio Norte, Capital Federal',\n",
       "       'location_Barrio Parque, Palermo', 'location_Belgrano C, Belgrano',\n",
       "       'location_Belgrano Chico, Belgrano', 'location_Belgrano R, Belgrano',\n",
       "       'location_Belgrano, Capital Federal', 'location_Boedo, Capital Federal',\n",
       "       'location_Botánico, Palermo', 'location_Caballito Norte, Caballito',\n",
       "       'location_Caballito Sur, Caballito',\n",
       "       'location_Caballito, Capital Federal',\n",
       "       'location_Centro / Microcentro, Capital Federal',\n",
       "       'location_Chacarita, Capital Federal',\n",
       "       'location_Cid Campeador, Caballito',\n",
       "       'location_Coghlan, Capital Federal',\n",
       "       'location_Colegiales, Capital Federal',\n",
       "       'location_Congreso, Capital Federal',\n",
       "       'location_Constitución, Capital Federal',\n",
       "       'location_Flores Norte, Flores',\n",
       "       'location_Flores Norte, Villa General Mitre',\n",
       "       'location_Flores Sur, Flores', 'location_Flores, Capital Federal',\n",
       "       'location_Floresta Norte, Floresta', 'location_Floresta Sur, Floresta',\n",
       "       'location_Floresta, Capital Federal',\n",
       "       'location_La Boca, Capital Federal',\n",
       "       'location_La Paternal, Capital Federal',\n",
       "       'location_Las Cañitas, Capital Federal',\n",
       "       'location_Las Cañitas, Las Cañitas',\n",
       "       'location_Liniers, Capital Federal', 'location_Lomas de Núñez, Núñez',\n",
       "       'location_Mataderos, Capital Federal',\n",
       "       'location_Monserrat, Capital Federal',\n",
       "       'location_Monte Castro, Capital Federal', 'location_Naón, Mataderos',\n",
       "       'location_Núñez, Capital Federal', 'location_Otro, Capital Federal',\n",
       "       'location_Palermo Chico, Palermo',\n",
       "       'location_Palermo Hollywood, Palermo',\n",
       "       'location_Palermo Nuevo, Palermo', 'location_Palermo Soho, Palermo',\n",
       "       'location_Palermo Viejo, Palermo', 'location_Palermo, Capital Federal',\n",
       "       'location_Parque Avellaneda, Capital Federal',\n",
       "       'location_Parque Centenario, Capital Federal',\n",
       "       'location_Parque Chacabuco, Capital Federal',\n",
       "       'location_Parque Chas, Capital Federal',\n",
       "       'location_Parque Patricios, Capital Federal',\n",
       "       'location_Pompeya, Capital Federal',\n",
       "       'location_Recoleta, Capital Federal',\n",
       "       'location_Retiro, Capital Federal',\n",
       "       'location_Saavedra, Capital Federal',\n",
       "       'location_San Cristobal, Capital Federal',\n",
       "       'location_San Nicolás, Capital Federal',\n",
       "       'location_San Telmo, Capital Federal',\n",
       "       'location_Tribunales, Capital Federal',\n",
       "       'location_Velez Sarsfield, Capital Federal',\n",
       "       'location_Versalles, Capital Federal',\n",
       "       'location_Villa Crespo, Capital Federal',\n",
       "       'location_Villa Devoto, Capital Federal',\n",
       "       'location_Villa General Mitre, Capital Federal',\n",
       "       'location_Villa Lugano, Capital Federal',\n",
       "       'location_Villa Luro, Capital Federal',\n",
       "       'location_Villa Ortuzar, Capital Federal',\n",
       "       'location_Villa Pueyrredón, Capital Federal',\n",
       "       'location_Villa Real, Capital Federal',\n",
       "       'location_Villa Riachuelo, Capital Federal',\n",
       "       'location_Villa Santa Rita, Capital Federal',\n",
       "       'location_Villa Soldati, Capital Federal',\n",
       "       'location_Villa Urquiza, Capital Federal',\n",
       "       'location_Villa del Parque, Capital Federal'],\n",
       "      dtype='object')"
      ]
     },
     "execution_count": 41,
     "metadata": {},
     "output_type": "execute_result"
    }
   ],
   "source": [
    "df.columns"
   ]
  },
  {
   "cell_type": "code",
   "execution_count": 42,
   "metadata": {},
   "outputs": [],
   "source": [
    "X = df.loc[:, df.columns != 'prize'].values\n",
    "Y = df.loc[:,'prize'].values.reshape(-1, 1)"
   ]
  },
  {
   "cell_type": "code",
   "execution_count": 43,
   "metadata": {},
   "outputs": [],
   "source": [
    "X_train, X_test, Y_train, Y_test = train_test_split(X, Y, test_size=0.2)"
   ]
  },
  {
   "cell_type": "code",
   "execution_count": 44,
   "metadata": {},
   "outputs": [
    {
     "data": {
      "text/plain": [
       "(4879, 80)"
      ]
     },
     "execution_count": 44,
     "metadata": {},
     "output_type": "execute_result"
    }
   ],
   "source": [
    "X.shape"
   ]
  },
  {
   "cell_type": "code",
   "execution_count": 45,
   "metadata": {},
   "outputs": [
    {
     "data": {
      "text/plain": [
       "(3903, 1)"
      ]
     },
     "execution_count": 45,
     "metadata": {},
     "output_type": "execute_result"
    }
   ],
   "source": [
    "Y_train.shape"
   ]
  },
  {
   "cell_type": "code",
   "execution_count": 46,
   "metadata": {},
   "outputs": [],
   "source": [
    "mlp_regressor = MLPRegressor(\n",
    "    hidden_layer_sizes=[78, 78, 78, 78, 78, 78, 78, 78],\n",
    "    activation='relu',\n",
    "    max_iter=500,\n",
    "    solver='sgd',\n",
    "    batch_size=32,\n",
    "    learning_rate_init = 0.005,\n",
    "    learning_rate = 'adaptive',\n",
    "    shuffle=True,\n",
    "    early_stopping=True,\n",
    "    tol = 1e-7,\n",
    "    n_iter_no_change=10)"
   ]
  },
  {
   "cell_type": "code",
   "execution_count": 49,
   "metadata": {},
   "outputs": [
    {
     "data": {
      "text/plain": [
       "MLPRegressor(batch_size=32, early_stopping=True,\n",
       "             hidden_layer_sizes=[78, 78, 78, 78, 78, 78, 78, 78],\n",
       "             learning_rate='adaptive', learning_rate_init=0.005, max_iter=500,\n",
       "             solver='sgd', tol=1e-07)"
      ]
     },
     "execution_count": 49,
     "metadata": {},
     "output_type": "execute_result"
    }
   ],
   "source": [
    "mlp_regressor.fit(X_train, Y_train.ravel())"
   ]
  },
  {
   "cell_type": "code",
   "execution_count": 50,
   "metadata": {},
   "outputs": [
    {
     "name": "stdout",
     "output_type": "stream",
     "text": [
      "MLP Loss: 0.09319970945503328\n",
      "MLP Score Train: 0.8028740390181036\n",
      "MLP Score Test: 0.7803179694935978\n"
     ]
    }
   ],
   "source": [
    "mlp_loss = mlp_regressor.loss_\n",
    "\n",
    "mlp_train_score = mlp_regressor.score(X_train, Y_train)\n",
    "\n",
    "mlp_test_score = mlp_regressor.score(X_test, Y_test)\n",
    "\n",
    "print('MLP Loss: ' + str(mlp_loss))\n",
    "print('MLP Score Train: ' + str(mlp_train_score))\n",
    "print('MLP Score Test: ' + str(mlp_test_score))"
   ]
  },
  {
   "cell_type": "code",
   "execution_count": 51,
   "metadata": {},
   "outputs": [],
   "source": [
    "random_forest = RandomForestRegressor(max_depth=10)"
   ]
  },
  {
   "cell_type": "code",
   "execution_count": 52,
   "metadata": {},
   "outputs": [
    {
     "data": {
      "text/plain": [
       "RandomForestRegressor(max_depth=10)"
      ]
     },
     "execution_count": 52,
     "metadata": {},
     "output_type": "execute_result"
    }
   ],
   "source": [
    "random_forest.fit(X_train, Y_train.ravel())"
   ]
  },
  {
   "cell_type": "code",
   "execution_count": 53,
   "metadata": {},
   "outputs": [
    {
     "name": "stdout",
     "output_type": "stream",
     "text": [
      "RF Train score: 0.8590782619063839\n",
      "RF Test score: 0.744561253903864\n"
     ]
    }
   ],
   "source": [
    "random_forest_test_score = random_forest.score(X_test, Y_test)\n",
    "random_forest_train_score = random_forest.score(X_train, Y_train)\n",
    "\n",
    "print('RF Train score: ' + str(random_forest_train_score))\n",
    "print('RF Test score: ' + str(random_forest_test_score))"
   ]
  },
  {
   "cell_type": "code",
   "execution_count": 71,
   "metadata": {},
   "outputs": [],
   "source": [
    "neigh = KNeighborsRegressor(n_neighbors=10)"
   ]
  },
  {
   "cell_type": "code",
   "execution_count": 72,
   "metadata": {},
   "outputs": [
    {
     "data": {
      "text/plain": [
       "KNeighborsRegressor(n_neighbors=10)"
      ]
     },
     "execution_count": 72,
     "metadata": {},
     "output_type": "execute_result"
    }
   ],
   "source": [
    "neigh.fit(X_train, Y_train.ravel())"
   ]
  },
  {
   "cell_type": "code",
   "execution_count": 73,
   "metadata": {},
   "outputs": [
    {
     "name": "stdout",
     "output_type": "stream",
     "text": [
      "Neigh Train score: 0.56759664294515\n",
      "Neigh Test score: 0.44819572901994875\n"
     ]
    }
   ],
   "source": [
    "neigh_test_score = neigh.score(X_test, Y_test)\n",
    "neigh_train_score = neigh.score(X_train, Y_train)\n",
    "\n",
    "print('Neigh Train score: ' + str(neigh_train_score))\n",
    "print('Neigh Test score: ' + str(neigh_test_score))"
   ]
  },
  {
   "cell_type": "code",
   "execution_count": 74,
   "metadata": {},
   "outputs": [
    {
     "name": "stdout",
     "output_type": "stream",
     "text": [
      "MLP Train Score: 0.8028740390181036\n",
      "RF Train score: 0.8590782619063839\n",
      "Neigh Train score: 0.56759664294515\n",
      "\n",
      "\n",
      "MLP TestScore: 0.7803179694935978\n",
      "RF Test score: 0.744561253903864\n",
      "Neigh Test score: 0.44819572901994875\n"
     ]
    }
   ],
   "source": [
    "print('MLP Train Score: ' + str(mlp_train_score))\n",
    "print('RF Train score: ' + str(random_forest_train_score))\n",
    "print('Neigh Train score: ' + str(neigh_train_score))\n",
    "print('\\n')\n",
    "print('MLP TestScore: ' + str(mlp_test_score))\n",
    "print('RF Test score: ' + str(random_forest_test_score))\n",
    "print('Neigh Test score: ' + str(neigh_test_score))"
   ]
  },
  {
   "cell_type": "code",
   "execution_count": 75,
   "metadata": {},
   "outputs": [],
   "source": [
    "columns = df.columns.values\n"
   ]
  },
  {
   "cell_type": "code",
   "execution_count": 79,
   "metadata": {},
   "outputs": [
    {
     "data": {
      "text/plain": [
       "array(['location_Abasto, Capital Federal',\n",
       "       'location_Agronomía, Capital Federal',\n",
       "       'location_Almagro, Capital Federal',\n",
       "       'location_Balvanera, Capital Federal',\n",
       "       'location_Barracas, Capital Federal',\n",
       "       'location_Barrio Norte, Capital Federal',\n",
       "       'location_Barrio Parque, Palermo', 'location_Belgrano C, Belgrano',\n",
       "       'location_Belgrano Chico, Belgrano',\n",
       "       'location_Belgrano R, Belgrano',\n",
       "       'location_Belgrano, Capital Federal',\n",
       "       'location_Boedo, Capital Federal', 'location_Botánico, Palermo',\n",
       "       'location_Caballito Norte, Caballito',\n",
       "       'location_Caballito Sur, Caballito',\n",
       "       'location_Caballito, Capital Federal',\n",
       "       'location_Centro / Microcentro, Capital Federal',\n",
       "       'location_Chacarita, Capital Federal',\n",
       "       'location_Cid Campeador, Caballito',\n",
       "       'location_Coghlan, Capital Federal',\n",
       "       'location_Colegiales, Capital Federal',\n",
       "       'location_Congreso, Capital Federal',\n",
       "       'location_Constitución, Capital Federal',\n",
       "       'location_Flores Norte, Flores',\n",
       "       'location_Flores Norte, Villa General Mitre',\n",
       "       'location_Flores Sur, Flores', 'location_Flores, Capital Federal',\n",
       "       'location_Floresta Norte, Floresta',\n",
       "       'location_Floresta Sur, Floresta',\n",
       "       'location_Floresta, Capital Federal',\n",
       "       'location_La Boca, Capital Federal',\n",
       "       'location_La Paternal, Capital Federal',\n",
       "       'location_Las Cañitas, Capital Federal',\n",
       "       'location_Las Cañitas, Las Cañitas',\n",
       "       'location_Liniers, Capital Federal',\n",
       "       'location_Lomas de Núñez, Núñez',\n",
       "       'location_Mataderos, Capital Federal',\n",
       "       'location_Monserrat, Capital Federal',\n",
       "       'location_Monte Castro, Capital Federal',\n",
       "       'location_Naón, Mataderos', 'location_Núñez, Capital Federal',\n",
       "       'location_Otro, Capital Federal',\n",
       "       'location_Palermo Chico, Palermo',\n",
       "       'location_Palermo Hollywood, Palermo',\n",
       "       'location_Palermo Nuevo, Palermo',\n",
       "       'location_Palermo Soho, Palermo',\n",
       "       'location_Palermo Viejo, Palermo',\n",
       "       'location_Palermo, Capital Federal',\n",
       "       'location_Parque Avellaneda, Capital Federal',\n",
       "       'location_Parque Centenario, Capital Federal',\n",
       "       'location_Parque Chacabuco, Capital Federal',\n",
       "       'location_Parque Chas, Capital Federal',\n",
       "       'location_Parque Patricios, Capital Federal',\n",
       "       'location_Pompeya, Capital Federal',\n",
       "       'location_Recoleta, Capital Federal',\n",
       "       'location_Retiro, Capital Federal',\n",
       "       'location_Saavedra, Capital Federal',\n",
       "       'location_San Cristobal, Capital Federal',\n",
       "       'location_San Nicolás, Capital Federal',\n",
       "       'location_San Telmo, Capital Federal',\n",
       "       'location_Tribunales, Capital Federal',\n",
       "       'location_Velez Sarsfield, Capital Federal',\n",
       "       'location_Versalles, Capital Federal',\n",
       "       'location_Villa Crespo, Capital Federal',\n",
       "       'location_Villa Devoto, Capital Federal',\n",
       "       'location_Villa General Mitre, Capital Federal',\n",
       "       'location_Villa Lugano, Capital Federal',\n",
       "       'location_Villa Luro, Capital Federal',\n",
       "       'location_Villa Ortuzar, Capital Federal',\n",
       "       'location_Villa Pueyrredón, Capital Federal',\n",
       "       'location_Villa Real, Capital Federal',\n",
       "       'location_Villa Riachuelo, Capital Federal',\n",
       "       'location_Villa Santa Rita, Capital Federal',\n",
       "       'location_Villa Soldati, Capital Federal',\n",
       "       'location_Villa Urquiza, Capital Federal',\n",
       "       'location_Villa del Parque, Capital Federal'], dtype=object)"
      ]
     },
     "execution_count": 79,
     "metadata": {},
     "output_type": "execute_result"
    }
   ],
   "source": [
    "columns[columns != 'prize'][4:]"
   ]
  },
  {
   "cell_type": "code",
   "execution_count": 111,
   "metadata": {},
   "outputs": [],
   "source": [
    "city = 'Palermo'\n",
    "locality = 'Capital Federal'"
   ]
  },
  {
   "cell_type": "code",
   "execution_count": 112,
   "metadata": {},
   "outputs": [
    {
     "name": "stdout",
     "output_type": "stream",
     "text": [
      "47\n"
     ]
    }
   ],
   "source": [
    "city_index = np.where(columns[columns != 'prize'][4:] == 'location_' + city + ', ' + locality)[0][0]\n",
    "print(city_index)"
   ]
  },
  {
   "cell_type": "code",
   "execution_count": 116,
   "metadata": {},
   "outputs": [],
   "source": [
    "area = 290\n",
    "garage = 2\n",
    "environments = 4\n",
    "bedrooms = 4\n",
    "\n",
    "area_normalized = (area - area_mean) / area_std\n",
    "\n",
    "location = np.zeros(76)\n",
    "location[city_index] = 1\n",
    "\n",
    "X_pred = np.concatenate((np.array([area_normalized, garage, environments, bedrooms]), location)).reshape(-1, 1)"
   ]
  },
  {
   "cell_type": "code",
   "execution_count": 117,
   "metadata": {},
   "outputs": [],
   "source": [
    "Y_mlp_pred = mlp_regressor.predict(X_pred.T)\n",
    "Y_random_forest_pred = random_forest.predict(X_pred.T)\n",
    "Y_neigh_pred = neigh.predict(X_pred.T)"
   ]
  },
  {
   "cell_type": "code",
   "execution_count": 118,
   "metadata": {},
   "outputs": [
    {
     "name": "stdout",
     "output_type": "stream",
     "text": [
      "MLP:  [745155.4340491]\n",
      "RF:  [629965.61230624]\n",
      "NEIGH:  [864500.]\n"
     ]
    }
   ],
   "source": [
    "print(\"MLP: \", str(Y_mlp_pred * prize_std + prize_mean))\n",
    "print(\"RF: \", str(Y_random_forest_pred * prize_std + prize_mean))\n",
    "print(\"NEIGH: \", str(Y_neigh_pred * prize_std + prize_mean))\n",
    "\n"
   ]
  },
  {
   "cell_type": "code",
   "execution_count": null,
   "metadata": {},
   "outputs": [],
   "source": []
  }
 ],
 "metadata": {
  "kernelspec": {
   "display_name": "Python 3.10.4 ('zona-prop-scrap')",
   "language": "python",
   "name": "python3"
  },
  "language_info": {
   "codemirror_mode": {
    "name": "ipython",
    "version": 3
   },
   "file_extension": ".py",
   "mimetype": "text/x-python",
   "name": "python",
   "nbconvert_exporter": "python",
   "pygments_lexer": "ipython3",
   "version": "3.10.4"
  },
  "orig_nbformat": 4,
  "vscode": {
   "interpreter": {
    "hash": "64683e22bebe0fae7243fe948c60deca4de3d327c51a32be4f992e4429e2a015"
   }
  }
 },
 "nbformat": 4,
 "nbformat_minor": 2
}
