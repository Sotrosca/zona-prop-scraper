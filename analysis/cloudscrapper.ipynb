{
 "cells": [
  {
   "cell_type": "code",
   "execution_count": 1,
   "metadata": {},
   "outputs": [],
   "source": [
    "import cloudscraper"
   ]
  },
  {
   "cell_type": "code",
   "execution_count": 2,
   "metadata": {},
   "outputs": [],
   "source": [
    "url = 'https://www.zonaprop.com.ar/departamentos-alquiler.html'\n"
   ]
  },
  {
   "cell_type": "code",
   "execution_count": 3,
   "metadata": {},
   "outputs": [],
   "source": [
    "scraper = cloudscraper.create_scraper()  # returns a CloudScraper instance\n",
    "# Or: scraper = cloudscraper.CloudScraper()  # CloudScraper inherits from requests.Session\n",
    "web_page = scraper.get(url)\n",
    "text = web_page.text"
   ]
  },
  {
   "cell_type": "code",
   "execution_count": 4,
   "metadata": {},
   "outputs": [
    {
     "data": {
      "text/plain": [
       "<Response [200]>"
      ]
     },
     "execution_count": 4,
     "metadata": {},
     "output_type": "execute_result"
    }
   ],
   "source": [
    "web_page"
   ]
  },
  {
   "cell_type": "code",
   "execution_count": 5,
   "metadata": {},
   "outputs": [],
   "source": [
    "from bs4 import BeautifulSoup\n"
   ]
  },
  {
   "cell_type": "code",
   "execution_count": 6,
   "metadata": {},
   "outputs": [],
   "source": [
    "soup = BeautifulSoup(text, 'lxml')"
   ]
  },
  {
   "cell_type": "code",
   "execution_count": 26,
   "metadata": {},
   "outputs": [
    {
     "data": {
      "text/plain": [
       "14993"
      ]
     },
     "execution_count": 26,
     "metadata": {},
     "output_type": "execute_result"
    }
   ],
   "source": [
    "soup.find_all('h1')[0].text\n",
    "\n",
    "# get the number with regex and convert into int\n",
    "\n",
    "import re\n",
    "\n",
    "match = re.findall(r'\\d+\\.?\\d+', soup.find_all('h1')[0].text)[0]\n",
    "\n",
    "#replace the dot with nothing\n",
    "\n",
    "match = match.replace('.', '')\n",
    "\n",
    "#convert into int\n",
    "\n",
    "int(match)\n"
   ]
  },
  {
   "cell_type": "code",
   "execution_count": 8,
   "metadata": {},
   "outputs": [],
   "source": [
    "import re"
   ]
  },
  {
   "cell_type": "code",
   "execution_count": 9,
   "metadata": {},
   "outputs": [
    {
     "data": {
      "text/plain": [
       "'14.993 Departamentos en alquiler en Argentina'"
      ]
     },
     "execution_count": 9,
     "metadata": {},
     "output_type": "execute_result"
    }
   ],
   "source": [
    "# Find h1 with text with regex matching \"14.810 Departamentos\"\n",
    "apartment_quantity = soup.find_all('h1', text=re.compile(r'\\d+ Departamentos'))[0].text\n",
    "apartment_quantity"
   ]
  },
  {
   "cell_type": "code",
   "execution_count": 10,
   "metadata": {},
   "outputs": [],
   "source": [
    "estate_posts = soup.find_all('div', attrs = {'data-posting-type' : True})"
   ]
  },
  {
   "cell_type": "code",
   "execution_count": 11,
   "metadata": {},
   "outputs": [
    {
     "data": {
      "text/plain": [
       "20"
      ]
     },
     "execution_count": 11,
     "metadata": {},
     "output_type": "execute_result"
    }
   ],
   "source": [
    "len(estate_posts)"
   ]
  },
  {
   "cell_type": "code",
   "execution_count": 12,
   "metadata": {},
   "outputs": [],
   "source": [
    "one_estate = estate_posts[0]"
   ]
  },
  {
   "cell_type": "code",
   "execution_count": 13,
   "metadata": {},
   "outputs": [],
   "source": [
    "# find div with anything data-qa atributte\n",
    "data_qa = one_estate.find_all('div', attrs={'data-qa': True})"
   ]
  },
  {
   "cell_type": "code",
   "execution_count": 14,
   "metadata": {},
   "outputs": [
    {
     "data": {
      "text/plain": [
       "6"
      ]
     },
     "execution_count": 14,
     "metadata": {},
     "output_type": "execute_result"
    }
   ],
   "source": [
    "len(data_qa)"
   ]
  },
  {
   "cell_type": "code",
   "execution_count": 72,
   "metadata": {},
   "outputs": [],
   "source": [
    "def parse_money_value(text):\n",
    "    money_value = re.findall(r'\\d+\\.?\\d+', text)[0]\n",
    "    money_value = money_value.replace('.', '')\n",
    "    money_value = int(money_value)\n",
    "    money_type = re.findall(r'(USD)|(ARS)|(\\$)', text)[0]\n",
    "    money_type = [x for x in money_type if x != ''][0]\n",
    "    return money_value, money_type\n",
    "\n",
    "def parse_text(text):\n",
    "    text = text.replace('\\n', '')\n",
    "    text = text.replace('\\t', '')\n",
    "    text = text.strip()\n",
    "    return text\n",
    "\n",
    "def parse_features(text):\n",
    "\n",
    "    features_matches = re.compile(r'(\\d+\\.?\\d*)\\s(\\w+)').findall(text)\n",
    "\n",
    "    feature_unit_dict = {'m²': 'square_meters_area', 'amb': 'rooms', 'dorm': 'bedrooms', 'baños': 'bathrooms'}\n",
    "    features_appearance = {'square_meters_area': 0, 'rooms': 0, 'bedrooms': 0, 'bathrooms': 0}\n",
    "\n",
    "    features = {}\n",
    "\n",
    "    for feature in features_matches:\n",
    "        feature_unit = f'{feature_unit_dict[feature[1]]}_{features_appearance[feature_unit_dict[feature[1]]]}'\n",
    "        features_appearance[feature_unit_dict[feature[1]]] += 1\n",
    "        features[feature_unit] = feature[0]\n",
    "    return features"
   ]
  },
  {
   "cell_type": "code",
   "execution_count": 61,
   "metadata": {},
   "outputs": [],
   "source": [
    "string = '115 m²  110 m²  3 amb.  2 dorm.  2 baños'"
   ]
  },
  {
   "cell_type": "code",
   "execution_count": 71,
   "metadata": {},
   "outputs": [
    {
     "name": "stdout",
     "output_type": "stream",
     "text": [
      "115 square_meters\n",
      "110 square_meters\n",
      "3 rooms\n",
      "2 bedrooms\n",
      "2 bathrooms\n"
     ]
    }
   ],
   "source": [
    "# make a regex that matches the number and unit of all items on the string\n",
    "\n",
    "features = re.compile(r'(\\d+\\.?\\d*)\\s(\\w+)').findall(string)\n",
    "\n",
    "feature_unit_dict = {'m²': 'square_meters_area', 'amb': 'rooms', 'dorm': 'bedrooms', 'baños': 'bathrooms'}\n",
    "\n",
    "for feature in features:\n",
    "    print(feature[0], feature_unit_dict[feature[1]])"
   ]
  },
  {
   "cell_type": "code",
   "execution_count": 69,
   "metadata": {},
   "outputs": [
    {
     "data": {
      "text/plain": [
       "[('115', 'm²'), ('110', 'm²'), ('3', 'amb'), ('2', 'dorm'), ('2', 'baños')]"
      ]
     },
     "execution_count": 69,
     "metadata": {},
     "output_type": "execute_result"
    }
   ],
   "source": [
    "features"
   ]
  },
  {
   "cell_type": "code",
   "execution_count": null,
   "metadata": {},
   "outputs": [],
   "source": []
  },
  {
   "cell_type": "code",
   "execution_count": 73,
   "metadata": {},
   "outputs": [
    {
     "name": "stdout",
     "output_type": "stream",
     "text": [
      "POSTING_CARD_GALLERY \n",
      "POSTING_CARD_PRICE (2000, 'USD')\n",
      "expensas (34640, '$')\n",
      "POSTING_CARD_LOCATION Palermo Chico, Palermo\n",
      "POSTING_CARD_FEATURES {'square_meters_0': '115', 'square_meters_1': '110', 'rooms_0': '3', 'bedrooms_0': '2', 'bathrooms_0': '2'}\n",
      "POSTING_CARD_DESCRIPTION Departamento en Alquiler en edificio de categoría. Sin muebles. Living-comedor. Toilette de recepción. Un dormitorio principal con balcón. Escritorio/ Playroom o segundo dormitorio. Un baño completo. Amplia cocina reciclada y equipada con heladera, lavavajillas, cocina a gas. Lavadero (lavasecarropas) y dependencia de servicio con baño. Artefactos eléctricos de iluminación instalados y cortinas. Cerramientos aislantes nuevos. No tiene cochera, pero posibilidad de alquiler en edificio de enfrente. Seguridad 24hs. Pileta climatizada. Aberturas de pvc y doble vidrio. Hay tres equipos de aire acondicionado: en el living-comedor y en cada dormitorio. El departamento está disponible a partir de principios de Agosto. Para los casos de alquiler de vivienda, el monto máximo de comisión que se le puede requerir a los propietarios será el equivalente al cuatro con quince centésimos por ciento (4, 15%) del valor total del respectivo contrato. Se encuentra prohibido cobrar a los inquilinos que sean personas físicas comisiones inmobiliarias y gastos de gestoría de informes\". - Para más información, llámanos al: +54 911 Ver datos. Aviso publicado por Miranda Bosch - Real Estate & Art desde Sumaprop.\n"
     ]
    }
   ],
   "source": [
    "for data in data_qa:\n",
    "    label = data['data-qa']\n",
    "    text = None\n",
    "    if label in ['POSTING_CARD_PRICE', 'expensas']:\n",
    "        text = parse_money_value(data.get_text())\n",
    "    elif label in ['POSTING_CARD_LOCATION', 'POSTING_CARD_DESCRIPTION']:\n",
    "        text = parse_text(data.get_text())\n",
    "    elif label in ['POSTING_CARD_FEATURES']:\n",
    "        text = parse_features(data.get_text())\n",
    "    else:\n",
    "        text = data.get_text()\n",
    "\n",
    "    print(label, text)"
   ]
  },
  {
   "cell_type": "code",
   "execution_count": 19,
   "metadata": {},
   "outputs": [
    {
     "name": "stdout",
     "output_type": "stream",
     "text": [
      "POSTING_CARD_PRICE\n",
      "USD 2.000\n"
     ]
    }
   ],
   "source": [
    "i = 1\n",
    "print(data_qa[i]['data-qa'])\n",
    "print(data_qa[i].text)\n"
   ]
  },
  {
   "cell_type": "code",
   "execution_count": null,
   "metadata": {},
   "outputs": [],
   "source": []
  }
 ],
 "metadata": {
  "kernelspec": {
   "display_name": "Python 3.10.4 ('zona-prop-scrap')",
   "language": "python",
   "name": "python3"
  },
  "language_info": {
   "codemirror_mode": {
    "name": "ipython",
    "version": 3
   },
   "file_extension": ".py",
   "mimetype": "text/x-python",
   "name": "python",
   "nbconvert_exporter": "python",
   "pygments_lexer": "ipython3",
   "version": "3.10.4"
  },
  "orig_nbformat": 4,
  "vscode": {
   "interpreter": {
    "hash": "64683e22bebe0fae7243fe948c60deca4de3d327c51a32be4f992e4429e2a015"
   }
  }
 },
 "nbformat": 4,
 "nbformat_minor": 2
}
